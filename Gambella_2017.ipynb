{
 "cells": [
  {
   "cell_type": "code",
   "execution_count": 1,
   "metadata": {},
   "outputs": [],
   "source": [
    "from gurobipy import *\n",
    "from math import *\n",
    "import random\n",
    "import itertools"
   ]
  },
  {
   "cell_type": "code",
   "execution_count": null,
   "metadata": {},
   "outputs": [],
   "source": []
  },
  {
   "cell_type": "code",
   "execution_count": 2,
   "metadata": {},
   "outputs": [
    {
     "data": {
      "text/plain": [
       "'\\n\\nGambella, C., Lodi, A., & Vigo, D. (2018). \\nExact solutions for the carrier–vehicle traveling salesman problem. \\nTransportation Science, 52(2), 320-330.\\n\\nhttps://drive.google.com/file/d/1syspfeLzCdjhjpBaHUtMKN6TImRcPu0A/view\\n\\n'"
      ]
     },
     "execution_count": 2,
     "metadata": {},
     "output_type": "execute_result"
    }
   ],
   "source": [
    "\"\"\"\n",
    "\n",
    "Gambella, C., Lodi, A., & Vigo, D. (2018). \n",
    "Exact solutions for the carrier–vehicle traveling salesman problem. \n",
    "Transportation Science, 52(2), 320-330.\n",
    "\n",
    "https://drive.google.com/file/d/1syspfeLzCdjhjpBaHUtMKN6TImRcPu0A/view\n",
    "\n",
    "\"\"\"\n"
   ]
  },
  {
   "cell_type": "code",
   "execution_count": null,
   "metadata": {},
   "outputs": [],
   "source": []
  },
  {
   "cell_type": "code",
   "execution_count": 3,
   "metadata": {},
   "outputs": [
    {
     "data": {
      "text/plain": [
       "'\\n#random n coordinates\\nn = 10\\nrandom_n_list = list(itertools.product(range(0, 100), range(0, 100)))\\n#print(random.sample(random_n_list, n))\\nq=[(0,0)]+random.sample(random_n_list, n)\\nprint(q)\\n'"
      ]
     },
     "execution_count": 3,
     "metadata": {},
     "output_type": "execute_result"
    }
   ],
   "source": [
    "\"\"\"\n",
    "#random n coordinates\n",
    "n = 10\n",
    "random_n_list = list(itertools.product(range(0, 100), range(0, 100)))\n",
    "#print(random.sample(random_n_list, n))\n",
    "q=[(0,0)]+random.sample(random_n_list, n)\n",
    "print(q)\n",
    "\"\"\""
   ]
  },
  {
   "cell_type": "code",
   "execution_count": null,
   "metadata": {},
   "outputs": [],
   "source": []
  },
  {
   "cell_type": "code",
   "execution_count": 4,
   "metadata": {},
   "outputs": [],
   "source": [
    "n=7\n",
    "#q=((0,0),(48,48),(0,40),(0,50),(1,49),(46,50),(46,46),(50,48),(0,0),(30,5),(30,0));\n",
    "q=((0,0),(0,20),(0,50),(1,49),(46,50),(46,46),(50,48),(30,5),(30,0));"
   ]
  },
  {
   "cell_type": "code",
   "execution_count": null,
   "metadata": {},
   "outputs": [],
   "source": [
    "\n",
    "  "
   ]
  },
  {
   "cell_type": "code",
   "execution_count": 5,
   "metadata": {},
   "outputs": [],
   "source": [
    "\n",
    "p_o=(0,0)\n",
    "p_f=(0,0)\n",
    "#q=((0,0),(0,40)  ,(25,25) ,(25,28) , (40,40) , (50,0),(25,26) , (26,25) , (24,24),(25,25),(30,25),(25,10),(20,5),(30,0) , (15,33)  , (19,0)  , (15,20)  , (30,23) , (0,20) , (43,0), (25,10)   );\n",
    "V_v=90\n",
    "V_c=18\n",
    "a=1/3"
   ]
  },
  {
   "cell_type": "code",
   "execution_count": null,
   "metadata": {},
   "outputs": [],
   "source": []
  },
  {
   "cell_type": "code",
   "execution_count": null,
   "metadata": {},
   "outputs": [],
   "source": []
  },
  {
   "cell_type": "code",
   "execution_count": null,
   "metadata": {},
   "outputs": [],
   "source": []
  },
  {
   "cell_type": "code",
   "execution_count": 6,
   "metadata": {},
   "outputs": [
    {
     "name": "stdout",
     "output_type": "stream",
     "text": [
      "Academic license - for non-commercial use only\n"
     ]
    }
   ],
   "source": [
    "# Create a new model\n",
    "m = Model(\"MISOCP_2017_new\")\n"
   ]
  },
  {
   "cell_type": "code",
   "execution_count": 7,
   "metadata": {},
   "outputs": [],
   "source": [
    "# Create variables\n",
    "Qx = {};\n",
    "Qy = {};\n",
    "\n",
    "w = {};\n",
    "\n",
    "pto_x= {};\n",
    "pto_y= {};\n",
    "\n",
    "pl_x= {};\n",
    "pl_y= {};\n",
    "\n",
    "\n",
    "t1= {};\n",
    "t2= {};\n",
    "\n",
    "t= {};\n",
    "\n",
    "T= {};\n",
    "\n",
    "#for SOCP\n",
    "Cx= {};\n",
    "Cy= {};\n",
    "C= {};"
   ]
  },
  {
   "cell_type": "code",
   "execution_count": 8,
   "metadata": {},
   "outputs": [],
   "source": [
    "for i in range(1, n+1):\n",
    "    Qx[i] = m.addVar(vtype = 'C',name='Qx[%s]'%i);\n",
    "    Qy[i] = m.addVar(vtype = 'C',name='Qy[%s]'%i);\n",
    "    \n",
    "    pto_x[i] = m.addVar(vtype = 'C',name='pto_x[%s]'%i);\n",
    "    pto_y[i] = m.addVar(vtype = 'C',name='pto_y[%s]'%i);\n",
    "    \n",
    "    pl_x[i] = m.addVar(vtype = 'C',name='pl_x[%s]'%i);\n",
    "    pl_y[i] = m.addVar(vtype = 'C',name='pl_y[%s]'%i);\n",
    "    \n",
    "    t1[i] = m.addVar(lb=0.0,vtype = 'C',name='t1[%s]'%i);\n",
    "    t2[i] = m.addVar(lb=0.0,vtype = 'C',name='t2[%s]'%i);\n",
    "    \n",
    "    t[i] = m.addVar(lb=0.0,vtype = 'C',name='t[%s]'%i);\n",
    "    \n",
    "    T[i] = m.addVar(lb=0.0,vtype = 'C',name='T[%s]'%i);\n",
    "    \n",
    "    \n",
    "\n",
    "    for j in range(1, n+1):\n",
    "        w[i,j] = m.addVar(vtype = 'B',name='w[%s,%s]'%(i,j));\n",
    "        \n",
    "    \n",
    "T[n+1] = m.addVar(lb=0.0,vtype = 'C',name='T[%s]'%(n+1));\n",
    "m.update()"
   ]
  },
  {
   "cell_type": "code",
   "execution_count": 9,
   "metadata": {},
   "outputs": [],
   "source": [
    "# Add constraint: \n",
    "ctr=0;\n",
    "\n",
    "#C5\n",
    "ctr=ctr+1;\n",
    "    \n",
    "Cx[ctr] = m.addVar(lb=-GRB.INFINITY,vtype = 'C',name='Cx.C5');\n",
    "Cy[ctr] = m.addVar(lb=-GRB.INFINITY,vtype = 'C',name='Cy.C5');\n",
    "C[ctr] = m.addVar(lb=0.0,vtype = 'C',name='C.C5');\n",
    "    \n",
    "    \n",
    "m.addConstr( Cx[ctr]  == p_o[0]-pto_x[1], 'C.5x.1'); \n",
    "m.addConstr( Cy[ctr]  == p_o[1]-pto_y[1], 'C.5y.1');\n",
    "m.addQConstr( Cx[ctr]*Cx[ctr] + Cy[ctr]*Cy[ctr] <=  C[ctr]*C[ctr], 'C.5.2');\n",
    "m.addConstr( C[ctr]-(V_c*T[1])  == 0, 'C.5.3');\n",
    "\n",
    "\n",
    "#C7\n",
    "ctr=ctr+1;\n",
    "    \n",
    "Cx[ctr] = m.addVar(lb=-GRB.INFINITY,vtype = 'C',name='Cx.C7');\n",
    "Cy[ctr] = m.addVar(lb=-GRB.INFINITY,vtype = 'C',name='Cy.C7');\n",
    "C[ctr] = m.addVar(lb=0.0,vtype = 'C',name='C.C7');\n",
    "    \n",
    "    \n",
    "m.addConstr( Cx[ctr]  == p_f[0]-pl_x[n], 'C.7x.1'); \n",
    "m.addConstr( Cy[ctr]  == p_f[1]-pl_y[n], 'C.7y.1');\n",
    "m.addQConstr( Cx[ctr]*Cx[ctr] + Cy[ctr]*Cy[ctr] <=  C[ctr]*C[ctr], 'C.7.2');\n",
    "m.addConstr( C[ctr]-(V_c*T[n+1])  == 0, 'C.7.3');\n",
    "\n",
    "\n",
    "\n",
    "for i in range(1, n+1):\n",
    "    \n",
    "    #C8\n",
    "    m.addConstr( t1[i] + t2[i] - t[i] <= 0.0, 'C.8.[%s]'%i);\n",
    "    \n",
    "    \n",
    "    #C2\n",
    "    ctr=ctr+1;\n",
    "    \n",
    "    Cx[ctr] = m.addVar(lb=-GRB.INFINITY,vtype = 'C',name='Cx[%s].C2'%i);\n",
    "    Cy[ctr] = m.addVar(lb=-GRB.INFINITY,vtype = 'C',name='Cy[%s].C2'%i);\n",
    "    C[ctr] = m.addVar(lb=0.0,vtype = 'C',name='C[%s].C2'%i);\n",
    "    \n",
    "                       \n",
    "    m.addConstr( Cx[ctr]  == Qx[i]-pto_x[i], 'C.2x.1.[%s]'%i); \n",
    "    m.addConstr( Cy[ctr]  == Qy[i]-pto_y[i], 'C.2y.1.[%s]'%i);\n",
    "    m.addQConstr( Cx[ctr]*Cx[ctr] + Cy[ctr]*Cy[ctr] <=  C[ctr]*C[ctr], 'C.2.2.[%s]'%i);\n",
    "    m.addConstr( C[ctr]-(V_v*t1[i])  == 0, 'C.2.3.[%s]'%i);\n",
    "    \n",
    "    #C3\n",
    "    ctr=ctr+1;\n",
    "    \n",
    "    Cx[ctr] = m.addVar(lb=-GRB.INFINITY,vtype = 'C',name='Cx[%s].C3'%i);\n",
    "    Cy[ctr] = m.addVar(lb=-GRB.INFINITY,vtype = 'C',name='Cy[%s].C3'%i);\n",
    "    C[ctr] = m.addVar(lb=0.0,vtype = 'C',name='C[%s].C3'%i);\n",
    "    \n",
    "    \n",
    "    m.addConstr( Cx[ctr]  == Qx[i]-pl_x[i], 'C.3x.1.[%s]'%i); \n",
    "    m.addConstr( Cy[ctr]  == Qy[i]-pl_y[i], 'C.3y.1.[%s]'%i);\n",
    "    m.addQConstr( Cx[ctr]*Cx[ctr] + Cy[ctr]*Cy[ctr] <=  C[ctr]*C[ctr], 'C.3.2.[%s]'%i);\n",
    "    m.addConstr( C[ctr]-(V_v*t2[i])  == 0, 'C.3.3.[%s]'%i);\n",
    "    \n",
    "    \n",
    "    #C4\n",
    "    ctr=ctr+1;\n",
    "    \n",
    "    Cx[ctr] = m.addVar(lb=-GRB.INFINITY,vtype = 'C',name='Cx[%s].C4'%i);\n",
    "    Cy[ctr] = m.addVar(lb=-GRB.INFINITY,vtype = 'C',name='Cy[%s].C4'%i);\n",
    "    C[ctr] = m.addVar(lb=0.0,vtype = 'C',name='C[%s].C4'%i);\n",
    "    \n",
    "    \n",
    "    m.addConstr( Cx[ctr]  == pl_x[i]-pto_x[i], 'C.4x.1.[%s]'%i); \n",
    "    m.addConstr( Cy[ctr]  == pl_y[i]-pto_y[i], 'C.4y.1.[%s]'%i);\n",
    "    m.addQConstr( Cx[ctr]*Cx[ctr] + Cy[ctr]*Cy[ctr] <=  C[ctr]*C[ctr], 'C.4.2.[%s]'%i);\n",
    "    m.addConstr( C[ctr]-(V_c*t[i])  == 0, 'C.4.3.[%s]'%i);\n",
    "    \n",
    "    \n",
    "    \n",
    "    #C9\n",
    "    m.addConstr( Qx[i]  == quicksum(w[i,j]*q[j][0] for j in range(1,n+1)), 'C.9x.[%s]'%i); \n",
    "    m.addConstr( Qy[i]  == quicksum(w[i,j]*q[j][1] for j in range(1,n+1)), 'C.9y.[%s]'%i); \n",
    "    \n",
    "    #C10\n",
    "    m.addConstr( quicksum(w[i,j] for j in range(1,n+1))  == 1, 'C.10.[%s]'%i);\n",
    "    \n",
    "    \n",
    "    #C14\n",
    "    m.addConstr( t[i]  <= a, 'C.14b.[%s]'%i);\n",
    "    \n",
    "\n",
    "    #C6\n",
    "    if i>1:\n",
    "        ctr=ctr+1;\n",
    "        \n",
    "        Cx[ctr] = m.addVar(lb=-GRB.INFINITY,vtype = 'C',name='Cx[%s].C6'%i);\n",
    "        Cy[ctr] = m.addVar(lb=-GRB.INFINITY,vtype = 'C',name='Cy[%s].C6'%i);\n",
    "        C[ctr] = m.addVar(lb=0.0,vtype = 'C',name='C[%s].C6'%i);\n",
    "    \n",
    "    \n",
    "        m.addConstr( Cx[ctr]  == pl_x[i-1]-pto_x[i], 'C.6x.1.[%s]'%i); \n",
    "        m.addConstr( Cy[ctr]  == pl_y[i-1]-pto_y[i], 'C.6y.1.[%s]'%i);\n",
    "        m.addQConstr( Cx[ctr]*Cx[ctr] + Cy[ctr]*Cy[ctr] <=  C[ctr]*C[ctr], 'C.6.2.[%s]'%i);\n",
    "        m.addConstr( C[ctr]-(V_c*T[i])  == 0, 'C.6.3.[%s]'%i);\n",
    "        \n",
    "        \n",
    "        \n",
    "        \n",
    "    \n",
    "    \n",
    "                       \n",
    "#C11                       \n",
    "for j in range(1, n+1):\n",
    "    \n",
    "    m.addConstr( quicksum(w[i,j] for i in range(1,n+1))  == 1, 'C.11.[%s]'%j);\n",
    "\n",
    "\n",
    "\n",
    "\n"
   ]
  },
  {
   "cell_type": "code",
   "execution_count": null,
   "metadata": {},
   "outputs": [],
   "source": []
  },
  {
   "cell_type": "code",
   "execution_count": null,
   "metadata": {},
   "outputs": [],
   "source": []
  },
  {
   "cell_type": "code",
   "execution_count": null,
   "metadata": {},
   "outputs": [],
   "source": []
  },
  {
   "cell_type": "code",
   "execution_count": 10,
   "metadata": {},
   "outputs": [],
   "source": [
    "# Set objective:\n",
    "\n",
    "\n",
    "obj = quicksum(t[i] for i in range(1,n+1)) +  quicksum(T[i] for i in range(1,n+2))\n",
    "\n",
    "m.setObjective(obj,GRB.MINIMIZE)"
   ]
  },
  {
   "cell_type": "code",
   "execution_count": 11,
   "metadata": {},
   "outputs": [
    {
     "name": "stdout",
     "output_type": "stream",
     "text": [
      "Optimize a model with 129 rows, 207 columns and 452 nonzeros\n",
      "Model has 29 quadratic constraints\n",
      "Variable types: 158 continuous, 49 integer (49 binary)\n",
      "Coefficient statistics:\n",
      "  Matrix range     [1e+00, 9e+01]\n",
      "  QMatrix range    [1e+00, 1e+00]\n",
      "  Objective range  [1e+00, 1e+00]\n",
      "  Bounds range     [1e+00, 1e+00]\n",
      "  RHS range        [3e-01, 1e+00]\n",
      "Presolve removed 40 rows and 33 columns\n",
      "Presolve time: 0.01s\n",
      "Presolved: 89 rows, 174 columns, 372 nonzeros\n",
      "Variable types: 111 continuous, 63 integer (49 binary)\n",
      "\n",
      "Root relaxation: objective 0.000000e+00, 47 iterations, 0.00 seconds\n",
      "\n",
      "    Nodes    |    Current Node    |     Objective Bounds      |     Work\n",
      " Expl Unexpl |  Obj  Depth IntInf | Incumbent    BestBd   Gap | It/Node Time\n",
      "\n",
      "H    0     0                      12.7600164    0.00000   100%     -    0s\n",
      "*    0     0               0      12.7600164    0.68798  94.6%     -    0s\n",
      "H    0     0                       8.3138453    0.68798  91.7%     -    0s\n",
      "     0     0    3.25006    0   37    8.31385    3.25006  60.9%     -    0s\n",
      "     0     0    4.16770    0   39    8.31385    4.16770  49.9%     -    0s\n",
      "     0     0    4.42824    0   39    8.31385    4.42824  46.7%     -    0s\n",
      "     0     0    4.48320    0   39    8.31385    4.48320  46.1%     -    0s\n",
      "     0     0    4.48320    0   39    8.31385    4.48320  46.1%     -    0s\n",
      "     0     2    4.48320    0   39    8.31385    4.48320  46.1%     -    0s\n",
      "H   13    11                       7.1943106    4.48360  37.7%  59.6    0s\n",
      "*   13    11               6       7.1943106    4.48360  37.7%  60.5    0s\n",
      "H  254    81                       7.1615687    5.25892  26.6%  41.7    0s\n",
      "H  533   106                       7.1435835    6.13867  14.1%  45.2    0s\n",
      "*  533   106              13       7.1435835    6.14772  13.9%  45.4    0s\n",
      "*  673    98              13       7.1435711    6.31529  11.6%  46.1    0s\n",
      "H  856   102                       7.1430169    6.35724  11.0%  46.4    1s\n",
      "*  856   102              15       7.1430169    6.35724  11.0%  46.5    1s\n",
      "H  887    93                       7.1344773    6.36987  10.7%  46.7    1s\n",
      "*  887    93               7       7.1344773    6.36987  10.7%  46.8    1s\n",
      "\n",
      "Explored 1397 nodes (61150 simplex iterations) in 1.70 seconds\n",
      "Thread count was 4 (of 4 available processors)\n",
      "\n",
      "Solution count 8: 7.13448 7.14302 7.14357 ... 12.76\n",
      "\n",
      "Optimal solution found (tolerance 1.00e-04)\n",
      "Best objective 7.134477272515e+00, best bound 7.133978872033e+00, gap 0.0070%\n"
     ]
    }
   ],
   "source": [
    "m.optimize()"
   ]
  },
  {
   "cell_type": "code",
   "execution_count": null,
   "metadata": {},
   "outputs": [],
   "source": []
  },
  {
   "cell_type": "code",
   "execution_count": 12,
   "metadata": {
    "scrolled": true
   },
   "outputs": [
    {
     "name": "stdout",
     "output_type": "stream",
     "text": [
      "t_m: 7.13447727251543 hours\n",
      "\n",
      "runtime is 1.7145109176635742 secs\n",
      "\n",
      "Q 1  : ( 0.0 ,  20.0 )\n",
      "takeoff pt 1  : ( 4.02864167094682 ,  20.244786956745607 )\n",
      "landing pt 1  : ( 4.872265172444151 ,  24.478104802062063 )\n",
      "\n",
      "Q 2  : ( 0.0 ,  50.0 )\n",
      "takeoff pt 2  : ( 7.144132326729047 ,  35.89029797964472 )\n",
      "landing pt 2  : ( 10.718661270951017 ,  40.70929497729404 )\n",
      "\n",
      "Q 3  : ( 1.0 ,  49.0 )\n",
      "takeoff pt 3  : ( 10.71866236530164 ,  40.70929628728975 )\n",
      "landing pt 3  : ( 16.62708122194735 ,  41.75357885248722 )\n",
      "\n",
      "Q 4  : ( 46.0 ,  50.0 )\n",
      "takeoff pt 4  : ( 29.670537902818317 ,  43.0426521408892 )\n",
      "landing pt 4  : ( 35.636364931289215 ,  43.63364664475383 )\n",
      "\n",
      "Q 5  : ( 50.0 ,  48.0 )\n",
      "takeoff pt 5  : ( 35.64811596776796 ,  43.634811223715026 )\n",
      "landing pt 5  : ( 38.50866599468291 ,  38.3606212017077 )\n",
      "\n",
      "Q 6  : ( 46.0 ,  46.0 )\n",
      "takeoff pt 6  : ( 38.256192055871786 ,  38.04619824757981 )\n",
      "landing pt 6  : ( 34.56039604668657 ,  33.44107664791268 )\n",
      "\n",
      "Q 7  : ( 30.0 ,  5.0 )\n",
      "takeoff pt 7  : ( 21.881317016350465 ,  17.612440292922493 )\n",
      "landing pt 7  : ( 17.587048957795364 ,  13.422068868669347 )\n",
      "\n"
     ]
    }
   ],
   "source": [
    "obj = m.getObjective()\n",
    "print(\"t_m:\",obj.getValue(),\"hours\\n\")\n",
    "print ('runtime is',m.Runtime,\"secs\\n\")\n",
    "for i in range(1,n+1):\n",
    "    print(\"Q\", i,\" : (\",Qx[i].X,\", \", Qy[i].X,\")\")\n",
    "\n",
    "    \n",
    "    print(\"takeoff pt\", i,\" : (\",pto_x[i].X,\", \", pto_y[i].X,\")\")\n",
    "    print(\"landing pt\", i,\" : (\",pl_x[i].X,\", \", pl_y[i].X,\")\\n\")"
   ]
  },
  {
   "cell_type": "code",
   "execution_count": 13,
   "metadata": {},
   "outputs": [],
   "source": [
    "#m.getVars()"
   ]
  },
  {
   "cell_type": "code",
   "execution_count": 14,
   "metadata": {},
   "outputs": [],
   "source": [
    "#w"
   ]
  },
  {
   "cell_type": "code",
   "execution_count": 15,
   "metadata": {},
   "outputs": [],
   "source": [
    "#Qx"
   ]
  },
  {
   "cell_type": "code",
   "execution_count": 16,
   "metadata": {},
   "outputs": [],
   "source": [
    "#m.Runtime"
   ]
  },
  {
   "cell_type": "code",
   "execution_count": 18,
   "metadata": {},
   "outputs": [
    {
     "data": {
      "text/plain": [
       "\"\\nfor i in range(1,n+1):\\n    plt.plot(pto_x[i].X, pto_y[i].X, marker='x',color='b')\\n    plt.plot(pl_x[i].X, pl_y[i].X, marker='x',color='b')\\n\""
      ]
     },
     "execution_count": 18,
     "metadata": {},
     "output_type": "execute_result"
    },
    {
     "data": {
      "image/png": "[encoded data removed]",
      "text/plain": [
       "<Figure size 432x288 with 1 Axes>"
      ]
     },
     "metadata": {
      "needs_background": "light"
     },
     "output_type": "display_data"
    }
   ],
   "source": [
    "import matplotlib.pyplot as plt\n",
    "\n",
    "#plt.xlabel(\"x/km\")\n",
    "#plt.ylabel(\"y/km\")\n",
    "#figure, axes = plt.subplots()\n",
    "\n",
    "\"\"\"\n",
    "for i in range(0,n+1):\n",
    "    plt.plot([l[i,0].X, t[i,0].X],[l[i,1].X,  t[i,1].X], color= 'b')\n",
    "    for j in range(0,n+1):\n",
    "        if x[i,j].X==1:\n",
    "            plt.plot([l[i,0].X, t[j,0].X],[l[i,1].X,  t[j,1].X], color= 'b')\n",
    "            \n",
    "\"\"\"\n",
    "\n",
    "plt.plot([0, pl_x[1].X],[ 0,  pl_y[1].X], color= 'b')\n",
    "plt.plot([0, pl_x[n].X],[ 0,  pl_y[n].X], color= 'b')\n",
    "\n",
    "for i in range(1,n+1):\n",
    "    plt.plot([pto_x[i].X, pl_x[i].X],[ pto_y[i].X,  pl_y[i].X], color= 'b')\n",
    "    if i<n:\n",
    "        plt.plot([pto_x[i+1].X, pl_x[i].X],[ pto_y[i+1].X,  pl_y[i].X], color= 'b')\n",
    "    \n",
    "    \n",
    "    plt.plot([Qx[i].X ,  pto_x[i].X] ,[Qy[i].X,  pto_y[i].X],linestyle= '--')\n",
    "    plt.plot([Qx[i].X ,  pl_x[i].X] ,[Qy[i].X,  pl_y[i].X],linestyle= '--')\n",
    "    plt.plot(q[i][0], q[i][1], marker='*',color='r')\n",
    "    #draw_circle = plt.Circle((q[i][0], q[i][1]), 5, color='r',fill=False)\n",
    "    #axes.set_aspect(1)\n",
    "    #axes.add_artist(draw_circle)\n",
    "    \n",
    "\"\"\"\n",
    "for i in range(1,n+1):\n",
    "    plt.plot(pto_x[i].X, pto_y[i].X, marker='x',color='b')\n",
    "    plt.plot(pl_x[i].X, pl_y[i].X, marker='x',color='b')\n",
    "\"\"\""
   ]
  },
  {
   "cell_type": "code",
   "execution_count": null,
   "metadata": {},
   "outputs": [],
   "source": []
  }
 ],
 "metadata": {
  "kernelspec": {
   "display_name": "Python 3",
   "language": "python",
   "name": "python3"
  },
  "language_info": {
   "codemirror_mode": {
    "name": "ipython",
    "version": 3
   },
   "file_extension": ".py",
   "mimetype": "text/x-python",
   "name": "python",
   "nbconvert_exporter": "python",
   "pygments_lexer": "ipython3",
   "version": "3.6.7"
  }
 },
 "nbformat": 4,
 "nbformat_minor": 2
}
